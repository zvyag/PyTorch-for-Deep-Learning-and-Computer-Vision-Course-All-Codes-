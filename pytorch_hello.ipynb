{
  "nbformat": 4,
  "nbformat_minor": 0,
  "metadata": {
    "colab": {
      "name": "pytorch_hello.ipynb",
      "version": "0.3.2",
      "provenance": [],
      "collapsed_sections": [],
      "include_colab_link": true
    },
    "kernelspec": {
      "name": "python3",
      "display_name": "Python 3"
    }
  },
  "cells": [
    {
      "cell_type": "markdown",
      "metadata": {
        "id": "view-in-github",
        "colab_type": "text"
      },
      "source": [
        "<a href=\"https://colab.research.google.com/github/zvyag/PyTorch-for-Deep-Learning-and-Computer-Vision-Course-All-Codes-/blob/master/pytorch_hello.ipynb\" target=\"_parent\"><img src=\"https://colab.research.google.com/assets/colab-badge.svg\" alt=\"Open In Colab\"/></a>"
      ]
    },
    {
      "cell_type": "code",
      "metadata": {
        "id": "bxxUcPCV90O1",
        "colab_type": "code",
        "outputId": "e71f7cd8-3124-4717-cd81-5ddd0d99f163",
        "colab": {
          "base_uri": "https://localhost:8080/",
          "height": 51
        }
      },
      "source": [
        "!pip3 install torch"
      ],
      "execution_count": 1,
      "outputs": [
        {
          "output_type": "stream",
          "text": [
            "Requirement already satisfied: torch in /usr/local/lib/python3.6/dist-packages (1.1.0)\n",
            "Requirement already satisfied: numpy in /usr/local/lib/python3.6/dist-packages (from torch) (1.16.5)\n"
          ],
          "name": "stdout"
        }
      ]
    },
    {
      "cell_type": "code",
      "metadata": {
        "id": "IHS7gQ-E-AAT",
        "colab_type": "code",
        "colab": {}
      },
      "source": [
        "import torch\n",
        "import numpy as np\n",
        "import torch.nn as nn\n",
        "#from torch.nn import Linear"
      ],
      "execution_count": 0,
      "outputs": []
    },
    {
      "cell_type": "markdown",
      "metadata": {
        "id": "yTWsu6SR-xh0",
        "colab_type": "text"
      },
      "source": [
        "#### create 1D tensor"
      ]
    },
    {
      "cell_type": "code",
      "metadata": {
        "id": "VRda_3AG-QB0",
        "colab_type": "code",
        "outputId": "1bf1e4f3-6941-4cf8-99cc-fea8e9091136",
        "colab": {
          "base_uri": "https://localhost:8080/",
          "height": 34
        }
      },
      "source": [
        "v = torch.tensor([1, 2, 3, 4, 5, 6])\n",
        "print(v)"
      ],
      "execution_count": 0,
      "outputs": [
        {
          "output_type": "stream",
          "text": [
            "tensor([1, 2, 3, 4, 5, 6])\n"
          ],
          "name": "stdout"
        }
      ]
    },
    {
      "cell_type": "code",
      "metadata": {
        "id": "mYbeJeRH_-_L",
        "colab_type": "code",
        "outputId": "31d5119a-a3b6-439a-cd34-e9fa368a9faf",
        "colab": {
          "base_uri": "https://localhost:8080/",
          "height": 34
        }
      },
      "source": [
        "f = torch.FloatTensor([1, 2, 3, 4])\n",
        "print(f)"
      ],
      "execution_count": 0,
      "outputs": [
        {
          "output_type": "stream",
          "text": [
            "tensor([1., 2., 3., 4.])\n"
          ],
          "name": "stdout"
        }
      ]
    },
    {
      "cell_type": "markdown",
      "metadata": {
        "id": "Ru7ncrRQ-689",
        "colab_type": "text"
      },
      "source": [
        "#### check the datatype"
      ]
    },
    {
      "cell_type": "code",
      "metadata": {
        "id": "XAryT_Cg-Xbc",
        "colab_type": "code",
        "outputId": "ea71abdb-5669-48ed-ff3b-bab3240a3054",
        "colab": {
          "base_uri": "https://localhost:8080/",
          "height": 51
        }
      },
      "source": [
        "# check the data type\n",
        "print(v.dtype)\n",
        "print(f.dtype)"
      ],
      "execution_count": 0,
      "outputs": [
        {
          "output_type": "stream",
          "text": [
            "torch.int64\n",
            "torch.float32\n"
          ],
          "name": "stdout"
        }
      ]
    },
    {
      "cell_type": "markdown",
      "metadata": {
        "id": "_Jf3bmHoAtZK",
        "colab_type": "text"
      },
      "source": [
        "**check the size**"
      ]
    },
    {
      "cell_type": "code",
      "metadata": {
        "id": "AUXw0ILpA0Gf",
        "colab_type": "code",
        "outputId": "4fce60bd-50bf-467b-866a-edc5366805ff",
        "colab": {
          "base_uri": "https://localhost:8080/",
          "height": 51
        }
      },
      "source": [
        "print(v.size())\n",
        "print(f.size())"
      ],
      "execution_count": 0,
      "outputs": [
        {
          "output_type": "stream",
          "text": [
            "torch.Size([6])\n",
            "torch.Size([4])\n"
          ],
          "name": "stdout"
        }
      ]
    },
    {
      "cell_type": "markdown",
      "metadata": {
        "id": "pRYHss8-BJfc",
        "colab_type": "text"
      },
      "source": [
        "**rearrange the elements**"
      ]
    },
    {
      "cell_type": "code",
      "metadata": {
        "id": "OUdg1sFYBOjn",
        "colab_type": "code",
        "outputId": "3e11e44c-039a-4fac-a48b-f9faf7654255",
        "colab": {
          "base_uri": "https://localhost:8080/",
          "height": 119
        }
      },
      "source": [
        "v.view(6, 1)  # similar to reshape in numpy"
      ],
      "execution_count": 0,
      "outputs": [
        {
          "output_type": "execute_result",
          "data": {
            "text/plain": [
              "tensor([[1],\n",
              "        [2],\n",
              "        [3],\n",
              "        [4],\n",
              "        [5],\n",
              "        [6]])"
            ]
          },
          "metadata": {
            "tags": []
          },
          "execution_count": 6
        }
      ]
    },
    {
      "cell_type": "code",
      "metadata": {
        "id": "enSqa7yGBx83",
        "colab_type": "code",
        "outputId": "1785d460-3051-4cf7-d5a7-1b74109e60cf",
        "colab": {
          "base_uri": "https://localhost:8080/",
          "height": 51
        }
      },
      "source": [
        "v.view(2, 3)"
      ],
      "execution_count": 0,
      "outputs": [
        {
          "output_type": "execute_result",
          "data": {
            "text/plain": [
              "tensor([[1, 2, 3],\n",
              "        [4, 5, 6]])"
            ]
          },
          "metadata": {
            "tags": []
          },
          "execution_count": 7
        }
      ]
    },
    {
      "cell_type": "code",
      "metadata": {
        "id": "dTmZ2xFQB7co",
        "colab_type": "code",
        "outputId": "625464b8-93a4-4655-f627-3d3810111463",
        "colab": {
          "base_uri": "https://localhost:8080/",
          "height": 68
        }
      },
      "source": [
        "v.view(3, -1)  # second dimension is infered from the original shape"
      ],
      "execution_count": 0,
      "outputs": [
        {
          "output_type": "execute_result",
          "data": {
            "text/plain": [
              "tensor([[1, 2],\n",
              "        [3, 4],\n",
              "        [5, 6]])"
            ]
          },
          "metadata": {
            "tags": []
          },
          "execution_count": 8
        }
      ]
    },
    {
      "cell_type": "code",
      "metadata": {
        "id": "IR7mM3rhBflU",
        "colab_type": "code",
        "outputId": "1c1efc48-a0ec-4170-c61b-ab2393e84814",
        "colab": {
          "base_uri": "https://localhost:8080/",
          "height": 34
        }
      },
      "source": [
        "v"
      ],
      "execution_count": 0,
      "outputs": [
        {
          "output_type": "execute_result",
          "data": {
            "text/plain": [
              "tensor([1, 2, 3, 4, 5, 6])"
            ]
          },
          "metadata": {
            "tags": []
          },
          "execution_count": 9
        }
      ]
    },
    {
      "cell_type": "markdown",
      "metadata": {
        "id": "24lig90L_MUR",
        "colab_type": "text"
      },
      "source": [
        "#### element access"
      ]
    },
    {
      "cell_type": "code",
      "metadata": {
        "id": "Zh_5kb73-qf9",
        "colab_type": "code",
        "outputId": "54a60719-a00b-4648-ab43-0dc3b3f91446",
        "colab": {
          "base_uri": "https://localhost:8080/",
          "height": 34
        }
      },
      "source": [
        "v[0]"
      ],
      "execution_count": 0,
      "outputs": [
        {
          "output_type": "execute_result",
          "data": {
            "text/plain": [
              "tensor(1)"
            ]
          },
          "metadata": {
            "tags": []
          },
          "execution_count": 10
        }
      ]
    },
    {
      "cell_type": "code",
      "metadata": {
        "id": "wxlbTuwM_QeZ",
        "colab_type": "code",
        "outputId": "ae97207e-e88f-45bc-c815-dbf4d4c37d95",
        "colab": {
          "base_uri": "https://localhost:8080/",
          "height": 34
        }
      },
      "source": [
        "v[1:4]  # stop index is exclusive!"
      ],
      "execution_count": 0,
      "outputs": [
        {
          "output_type": "execute_result",
          "data": {
            "text/plain": [
              "tensor([2, 3, 4])"
            ]
          },
          "metadata": {
            "tags": []
          },
          "execution_count": 11
        }
      ]
    },
    {
      "cell_type": "code",
      "metadata": {
        "id": "zIABCpEO_e1p",
        "colab_type": "code",
        "outputId": "a36c581e-7d42-41dd-97da-cab629c58efc",
        "colab": {
          "base_uri": "https://localhost:8080/",
          "height": 34
        }
      },
      "source": [
        "v[1:]"
      ],
      "execution_count": 0,
      "outputs": [
        {
          "output_type": "execute_result",
          "data": {
            "text/plain": [
              "tensor([2, 3, 4, 5, 6])"
            ]
          },
          "metadata": {
            "tags": []
          },
          "execution_count": 12
        }
      ]
    },
    {
      "cell_type": "markdown",
      "metadata": {
        "id": "aTj_cUu8ddL6",
        "colab_type": "text"
      },
      "source": [
        "**convert np arrays to tensors and vice versa**"
      ]
    },
    {
      "cell_type": "code",
      "metadata": {
        "id": "qiZzVl9I_vyX",
        "colab_type": "code",
        "outputId": "20ba6d14-09ef-4246-f0ca-0012a72e2984",
        "colab": {
          "base_uri": "https://localhost:8080/",
          "height": 51
        }
      },
      "source": [
        "a = np.array([1, 2, 3, 4, 5])\n",
        "tensor_cnv = torch.from_numpy(a)\n",
        "print(tensor_cnv)\n",
        "print(tensor_cnv.type())"
      ],
      "execution_count": 0,
      "outputs": [
        {
          "output_type": "stream",
          "text": [
            "tensor([1, 2, 3, 4, 5])\n",
            "torch.LongTensor\n"
          ],
          "name": "stdout"
        }
      ]
    },
    {
      "cell_type": "code",
      "metadata": {
        "id": "v5NspvoCeVgB",
        "colab_type": "code",
        "outputId": "b1e5b11d-c0ce-47da-f6f9-137d13248e5c",
        "colab": {
          "base_uri": "https://localhost:8080/",
          "height": 34
        }
      },
      "source": [
        "numpy_cnv = tensor_cnv.numpy()\n",
        "print(numpy_cnv)"
      ],
      "execution_count": 0,
      "outputs": [
        {
          "output_type": "stream",
          "text": [
            "[1 2 3 4 5]\n"
          ],
          "name": "stdout"
        }
      ]
    },
    {
      "cell_type": "markdown",
      "metadata": {
        "id": "p7KFeaD0fNkB",
        "colab_type": "text"
      },
      "source": [
        "**matrix multiplication**"
      ]
    },
    {
      "cell_type": "code",
      "metadata": {
        "id": "utxh6nkIi-BT",
        "colab_type": "code",
        "outputId": "3e5f6864-e7a1-4b03-ca7f-e7ad4dc7fa5d",
        "colab": {
          "base_uri": "https://localhost:8080/",
          "height": 51
        }
      },
      "source": [
        "mat_a = torch.tensor([0, 3, 5, 5, 5, 2]).view(2, 3)\n",
        "mat_a"
      ],
      "execution_count": 0,
      "outputs": [
        {
          "output_type": "execute_result",
          "data": {
            "text/plain": [
              "tensor([[0, 3, 5],\n",
              "        [5, 5, 2]])"
            ]
          },
          "metadata": {
            "tags": []
          },
          "execution_count": 16
        }
      ]
    },
    {
      "cell_type": "code",
      "metadata": {
        "id": "uya7XKiBjfkD",
        "colab_type": "code",
        "outputId": "10e585c4-0e8f-4979-c6ad-0269bf27ff96",
        "colab": {
          "base_uri": "https://localhost:8080/",
          "height": 68
        }
      },
      "source": [
        "mat_b = torch.tensor([3, 4, 3, -2, 4, -2]).view(3, 2)\n",
        "mat_b"
      ],
      "execution_count": 0,
      "outputs": [
        {
          "output_type": "execute_result",
          "data": {
            "text/plain": [
              "tensor([[ 3,  4],\n",
              "        [ 3, -2],\n",
              "        [ 4, -2]])"
            ]
          },
          "metadata": {
            "tags": []
          },
          "execution_count": 17
        }
      ]
    },
    {
      "cell_type": "code",
      "metadata": {
        "id": "A4ToW0oNj6zF",
        "colab_type": "code",
        "outputId": "142ca7ee-915b-4660-c300-a0cabb9f8b92",
        "colab": {
          "base_uri": "https://localhost:8080/",
          "height": 51
        }
      },
      "source": [
        "torch.matmul(mat_a, mat_b)"
      ],
      "execution_count": 0,
      "outputs": [
        {
          "output_type": "execute_result",
          "data": {
            "text/plain": [
              "tensor([[ 29, -16],\n",
              "        [ 38,   6]])"
            ]
          },
          "metadata": {
            "tags": []
          },
          "execution_count": 18
        }
      ]
    },
    {
      "cell_type": "code",
      "metadata": {
        "id": "JA1UVt1WkCOl",
        "colab_type": "code",
        "outputId": "19d89639-e198-4bdb-c3a6-5a4df4b00520",
        "colab": {
          "base_uri": "https://localhost:8080/",
          "height": 51
        }
      },
      "source": [
        "mat_a@mat_b"
      ],
      "execution_count": 0,
      "outputs": [
        {
          "output_type": "execute_result",
          "data": {
            "text/plain": [
              "tensor([[ 29, -16],\n",
              "        [ 38,   6]])"
            ]
          },
          "metadata": {
            "tags": []
          },
          "execution_count": 19
        }
      ]
    },
    {
      "cell_type": "markdown",
      "metadata": {
        "id": "VTAGY838k2Bk",
        "colab_type": "text"
      },
      "source": [
        "**derivatives**"
      ]
    },
    {
      "cell_type": "code",
      "metadata": {
        "id": "myEn1p_WkI1-",
        "colab_type": "code",
        "outputId": "6cb2c6f4-83e7-48ee-ac7b-6ee82039ab8c",
        "colab": {
          "base_uri": "https://localhost:8080/",
          "height": 34
        }
      },
      "source": [
        "x = torch.tensor(2.0, requires_grad=True)\n",
        "y = 9*x**4 + 2*x**3 + 3*x**2 + 6*x + 1\n",
        "y.backward()\n",
        "x.grad"
      ],
      "execution_count": 0,
      "outputs": [
        {
          "output_type": "execute_result",
          "data": {
            "text/plain": [
              "tensor(330.)"
            ]
          },
          "metadata": {
            "tags": []
          },
          "execution_count": 23
        }
      ]
    },
    {
      "cell_type": "code",
      "metadata": {
        "id": "glfEGbINkxoN",
        "colab_type": "code",
        "outputId": "704c6974-0f78-46a6-cb7a-2ea4bb6efb7a",
        "colab": {
          "base_uri": "https://localhost:8080/",
          "height": 51
        }
      },
      "source": [
        "x = torch.tensor(1.0, requires_grad=True)\n",
        "z = torch.tensor(2.0, requires_grad=True)\n",
        "y = x**2 + z**3\n",
        "y.backward()\n",
        "print(x.grad)\n",
        "print(z.grad)"
      ],
      "execution_count": 0,
      "outputs": [
        {
          "output_type": "stream",
          "text": [
            "tensor(2.)\n",
            "tensor(12.)\n"
          ],
          "name": "stdout"
        }
      ]
    },
    {
      "cell_type": "markdown",
      "metadata": {
        "id": "Vl7s7qUso_RI",
        "colab_type": "text"
      },
      "source": [
        "**linear model**"
      ]
    },
    {
      "cell_type": "code",
      "metadata": {
        "id": "IWEkcF1TnB79",
        "colab_type": "code",
        "colab": {}
      },
      "source": [
        "w = torch.tensor(3.0, requires_grad=True)\n",
        "b = torch.tensor(1.0, requires_grad=True)"
      ],
      "execution_count": 0,
      "outputs": []
    },
    {
      "cell_type": "code",
      "metadata": {
        "id": "UEYqsyi9pObg",
        "colab_type": "code",
        "colab": {}
      },
      "source": [
        "def forward(x):\n",
        "  return w*x + b"
      ],
      "execution_count": 0,
      "outputs": []
    },
    {
      "cell_type": "code",
      "metadata": {
        "id": "uk67-_Ywplpq",
        "colab_type": "code",
        "colab": {
          "base_uri": "https://localhost:8080/",
          "height": 34
        },
        "outputId": "8122f1b6-f4a1-4169-a235-3ac8c9358dc2"
      },
      "source": [
        "x = torch.tensor([4, 7])\n",
        "forward(x)"
      ],
      "execution_count": 7,
      "outputs": [
        {
          "output_type": "execute_result",
          "data": {
            "text/plain": [
              "tensor([13, 22], grad_fn=<AddBackward0>)"
            ]
          },
          "metadata": {
            "tags": []
          },
          "execution_count": 7
        }
      ]
    },
    {
      "cell_type": "markdown",
      "metadata": {
        "id": "qJ-GcuWIqx1m",
        "colab_type": "text"
      },
      "source": [
        "**with linear class**"
      ]
    },
    {
      "cell_type": "code",
      "metadata": {
        "id": "uKX-w_Y9prfG",
        "colab_type": "code",
        "colab": {}
      },
      "source": [
        "torch.manual_seed(1)\n",
        "model = Linear(in_features=1, out_features=1)"
      ],
      "execution_count": 0,
      "outputs": []
    },
    {
      "cell_type": "code",
      "metadata": {
        "id": "rSAMTO16rddk",
        "colab_type": "code",
        "colab": {
          "base_uri": "https://localhost:8080/",
          "height": 85
        },
        "outputId": "71c09dac-c3e7-4704-fc8d-0e5b7a16409d"
      },
      "source": [
        "print(model.bias)\n",
        "print(model.weight)"
      ],
      "execution_count": 12,
      "outputs": [
        {
          "output_type": "stream",
          "text": [
            "Parameter containing:\n",
            "tensor([-0.4414], requires_grad=True)\n",
            "Parameter containing:\n",
            "tensor([[0.5153]], requires_grad=True)\n"
          ],
          "name": "stdout"
        }
      ]
    },
    {
      "cell_type": "code",
      "metadata": {
        "id": "Gje5DBP8rocy",
        "colab_type": "code",
        "colab": {
          "base_uri": "https://localhost:8080/",
          "height": 51
        },
        "outputId": "4dba3de9-2935-4d27-b857-959ee44187f0"
      },
      "source": [
        "x = torch.tensor([[2.0], [3.0]])\n",
        "print(model(x))"
      ],
      "execution_count": 14,
      "outputs": [
        {
          "output_type": "stream",
          "text": [
            "tensor([[0.5891],\n",
            "        [1.1044]], grad_fn=<AddmmBackward>)\n"
          ],
          "name": "stdout"
        }
      ]
    },
    {
      "cell_type": "markdown",
      "metadata": {
        "id": "Ss_n0gatsq1K",
        "colab_type": "text"
      },
      "source": [
        "**custom models**"
      ]
    },
    {
      "cell_type": "code",
      "metadata": {
        "id": "uw45xcRAsOUj",
        "colab_type": "code",
        "colab": {}
      },
      "source": [
        "class LR(nn.Module):\n",
        "  def __init__(self, input_size, output_size):\n",
        "    super().__init__()\n",
        "    self.linear = nn.Linear(input_size, output_size)\n",
        "    \n",
        "  def forward(self, x):\n",
        "    return self.linear(x)"
      ],
      "execution_count": 0,
      "outputs": []
    },
    {
      "cell_type": "code",
      "metadata": {
        "id": "TW7pdTiyvHK_",
        "colab_type": "code",
        "colab": {
          "base_uri": "https://localhost:8080/",
          "height": 68
        },
        "outputId": "2c441adc-f160-493d-9be0-e6b0aee809c9"
      },
      "source": [
        "torch.manual_seed(1)\n",
        "model = LR(1, 1)\n",
        "print(list(model.parameters()))"
      ],
      "execution_count": 8,
      "outputs": [
        {
          "output_type": "stream",
          "text": [
            "[Parameter containing:\n",
            "tensor([[0.5153]], requires_grad=True), Parameter containing:\n",
            "tensor([-0.4414], requires_grad=True)]\n"
          ],
          "name": "stdout"
        }
      ]
    },
    {
      "cell_type": "code",
      "metadata": {
        "id": "6XlyYS9EvmyJ",
        "colab_type": "code",
        "colab": {}
      },
      "source": [
        ""
      ],
      "execution_count": 0,
      "outputs": []
    }
  ]
}