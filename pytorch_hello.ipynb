{
  "nbformat": 4,
  "nbformat_minor": 0,
  "metadata": {
    "colab": {
      "name": "pytorch_hello.ipynb",
      "version": "0.3.2",
      "provenance": [],
      "collapsed_sections": [],
      "include_colab_link": true
    },
    "kernelspec": {
      "name": "python3",
      "display_name": "Python 3"
    }
  },
  "cells": [
    {
      "cell_type": "markdown",
      "metadata": {
        "id": "view-in-github",
        "colab_type": "text"
      },
      "source": [
        "<a href=\"https://colab.research.google.com/github/zvyag/PyTorch-for-Deep-Learning-and-Computer-Vision-Course-All-Codes-/blob/master/pytorch_hello.ipynb\" target=\"_parent\"><img src=\"https://colab.research.google.com/assets/colab-badge.svg\" alt=\"Open In Colab\"/></a>"
      ]
    },
    {
      "cell_type": "code",
      "metadata": {
        "id": "bxxUcPCV90O1",
        "colab_type": "code",
        "outputId": "4dfbdf5d-5e68-4c4c-8b70-502e3e76dbea",
        "colab": {
          "base_uri": "https://localhost:8080/",
          "height": 51
        }
      },
      "source": [
        "!pip3 install torch"
      ],
      "execution_count": 1,
      "outputs": [
        {
          "output_type": "stream",
          "text": [
            "Requirement already satisfied: torch in /usr/local/lib/python3.6/dist-packages (1.1.0)\n",
            "Requirement already satisfied: numpy in /usr/local/lib/python3.6/dist-packages (from torch) (1.16.5)\n"
          ],
          "name": "stdout"
        }
      ]
    },
    {
      "cell_type": "code",
      "metadata": {
        "id": "IHS7gQ-E-AAT",
        "colab_type": "code",
        "colab": {}
      },
      "source": [
        "import torch\n",
        "import numpy as np\n",
        "import torch.nn as nn\n",
        "from torch.nn import Linear\n",
        "import matplotlib.pyplot as plt\n",
        "from sklearn import datasets"
      ],
      "execution_count": 0,
      "outputs": []
    },
    {
      "cell_type": "markdown",
      "metadata": {
        "id": "yTWsu6SR-xh0",
        "colab_type": "text"
      },
      "source": [
        "#### create 1D tensor"
      ]
    },
    {
      "cell_type": "code",
      "metadata": {
        "id": "VRda_3AG-QB0",
        "colab_type": "code",
        "outputId": "68aa26db-28ef-40d2-8d2d-df476c0b0b95",
        "colab": {
          "base_uri": "https://localhost:8080/",
          "height": 34
        }
      },
      "source": [
        "v = torch.tensor([1, 2, 3, 4, 5, 6])\n",
        "print(v)"
      ],
      "execution_count": 3,
      "outputs": [
        {
          "output_type": "stream",
          "text": [
            "tensor([1, 2, 3, 4, 5, 6])\n"
          ],
          "name": "stdout"
        }
      ]
    },
    {
      "cell_type": "code",
      "metadata": {
        "id": "mYbeJeRH_-_L",
        "colab_type": "code",
        "outputId": "847bf0b9-ab13-4f28-822e-f62b011ba3dd",
        "colab": {
          "base_uri": "https://localhost:8080/",
          "height": 34
        }
      },
      "source": [
        "f = torch.FloatTensor([1, 2, 3, 4])\n",
        "print(f)"
      ],
      "execution_count": 4,
      "outputs": [
        {
          "output_type": "stream",
          "text": [
            "tensor([1., 2., 3., 4.])\n"
          ],
          "name": "stdout"
        }
      ]
    },
    {
      "cell_type": "markdown",
      "metadata": {
        "id": "Ru7ncrRQ-689",
        "colab_type": "text"
      },
      "source": [
        "#### check the datatype"
      ]
    },
    {
      "cell_type": "code",
      "metadata": {
        "id": "XAryT_Cg-Xbc",
        "colab_type": "code",
        "outputId": "dbc9b91d-0a30-4106-a4c1-d44aabb53039",
        "colab": {
          "base_uri": "https://localhost:8080/",
          "height": 51
        }
      },
      "source": [
        "# check the data type\n",
        "print(v.dtype)\n",
        "print(f.dtype)"
      ],
      "execution_count": 5,
      "outputs": [
        {
          "output_type": "stream",
          "text": [
            "torch.int64\n",
            "torch.float32\n"
          ],
          "name": "stdout"
        }
      ]
    },
    {
      "cell_type": "markdown",
      "metadata": {
        "id": "_Jf3bmHoAtZK",
        "colab_type": "text"
      },
      "source": [
        "**check the size**"
      ]
    },
    {
      "cell_type": "code",
      "metadata": {
        "id": "AUXw0ILpA0Gf",
        "colab_type": "code",
        "outputId": "793a5a69-7a07-4dae-e96b-ed213971bc2e",
        "colab": {
          "base_uri": "https://localhost:8080/",
          "height": 51
        }
      },
      "source": [
        "print(v.size())\n",
        "print(f.size())"
      ],
      "execution_count": 6,
      "outputs": [
        {
          "output_type": "stream",
          "text": [
            "torch.Size([6])\n",
            "torch.Size([4])\n"
          ],
          "name": "stdout"
        }
      ]
    },
    {
      "cell_type": "markdown",
      "metadata": {
        "id": "pRYHss8-BJfc",
        "colab_type": "text"
      },
      "source": [
        "**rearrange the elements**"
      ]
    },
    {
      "cell_type": "code",
      "metadata": {
        "id": "OUdg1sFYBOjn",
        "colab_type": "code",
        "outputId": "6820c462-476b-4390-c77f-73ead0c3246a",
        "colab": {
          "base_uri": "https://localhost:8080/",
          "height": 119
        }
      },
      "source": [
        "v.view(6, 1)  # similar to reshape in numpy"
      ],
      "execution_count": 7,
      "outputs": [
        {
          "output_type": "execute_result",
          "data": {
            "text/plain": [
              "tensor([[1],\n",
              "        [2],\n",
              "        [3],\n",
              "        [4],\n",
              "        [5],\n",
              "        [6]])"
            ]
          },
          "metadata": {
            "tags": []
          },
          "execution_count": 7
        }
      ]
    },
    {
      "cell_type": "code",
      "metadata": {
        "id": "enSqa7yGBx83",
        "colab_type": "code",
        "outputId": "6d4eb2b4-b94d-4676-bcc4-773df01ef8a9",
        "colab": {
          "base_uri": "https://localhost:8080/",
          "height": 51
        }
      },
      "source": [
        "v.view(2, 3)"
      ],
      "execution_count": 8,
      "outputs": [
        {
          "output_type": "execute_result",
          "data": {
            "text/plain": [
              "tensor([[1, 2, 3],\n",
              "        [4, 5, 6]])"
            ]
          },
          "metadata": {
            "tags": []
          },
          "execution_count": 8
        }
      ]
    },
    {
      "cell_type": "code",
      "metadata": {
        "id": "dTmZ2xFQB7co",
        "colab_type": "code",
        "outputId": "88c91e99-23d4-4a7b-a538-668efe3c73f3",
        "colab": {
          "base_uri": "https://localhost:8080/",
          "height": 68
        }
      },
      "source": [
        "v.view(3, -1)  # second dimension is infered from the original shape"
      ],
      "execution_count": 9,
      "outputs": [
        {
          "output_type": "execute_result",
          "data": {
            "text/plain": [
              "tensor([[1, 2],\n",
              "        [3, 4],\n",
              "        [5, 6]])"
            ]
          },
          "metadata": {
            "tags": []
          },
          "execution_count": 9
        }
      ]
    },
    {
      "cell_type": "code",
      "metadata": {
        "id": "IR7mM3rhBflU",
        "colab_type": "code",
        "outputId": "39686d18-4688-4be5-b4d0-e0371d4acdba",
        "colab": {
          "base_uri": "https://localhost:8080/",
          "height": 34
        }
      },
      "source": [
        "v"
      ],
      "execution_count": 10,
      "outputs": [
        {
          "output_type": "execute_result",
          "data": {
            "text/plain": [
              "tensor([1, 2, 3, 4, 5, 6])"
            ]
          },
          "metadata": {
            "tags": []
          },
          "execution_count": 10
        }
      ]
    },
    {
      "cell_type": "markdown",
      "metadata": {
        "id": "24lig90L_MUR",
        "colab_type": "text"
      },
      "source": [
        "#### element access"
      ]
    },
    {
      "cell_type": "code",
      "metadata": {
        "id": "Zh_5kb73-qf9",
        "colab_type": "code",
        "outputId": "d8bda592-6124-44bf-983e-c7740e23be44",
        "colab": {
          "base_uri": "https://localhost:8080/",
          "height": 34
        }
      },
      "source": [
        "v[0]"
      ],
      "execution_count": 11,
      "outputs": [
        {
          "output_type": "execute_result",
          "data": {
            "text/plain": [
              "tensor(1)"
            ]
          },
          "metadata": {
            "tags": []
          },
          "execution_count": 11
        }
      ]
    },
    {
      "cell_type": "code",
      "metadata": {
        "id": "wxlbTuwM_QeZ",
        "colab_type": "code",
        "outputId": "9f5b1a08-8a4e-4668-8600-a874f0f0676c",
        "colab": {
          "base_uri": "https://localhost:8080/",
          "height": 34
        }
      },
      "source": [
        "v[1:4]  # stop index is exclusive!"
      ],
      "execution_count": 12,
      "outputs": [
        {
          "output_type": "execute_result",
          "data": {
            "text/plain": [
              "tensor([2, 3, 4])"
            ]
          },
          "metadata": {
            "tags": []
          },
          "execution_count": 12
        }
      ]
    },
    {
      "cell_type": "code",
      "metadata": {
        "id": "zIABCpEO_e1p",
        "colab_type": "code",
        "outputId": "b5239a70-b79d-4208-d69f-7e32d8cfb0e7",
        "colab": {
          "base_uri": "https://localhost:8080/",
          "height": 34
        }
      },
      "source": [
        "v[1:]"
      ],
      "execution_count": 13,
      "outputs": [
        {
          "output_type": "execute_result",
          "data": {
            "text/plain": [
              "tensor([2, 3, 4, 5, 6])"
            ]
          },
          "metadata": {
            "tags": []
          },
          "execution_count": 13
        }
      ]
    },
    {
      "cell_type": "markdown",
      "metadata": {
        "id": "aTj_cUu8ddL6",
        "colab_type": "text"
      },
      "source": [
        "**convert np arrays to tensors and vice versa**"
      ]
    },
    {
      "cell_type": "code",
      "metadata": {
        "id": "qiZzVl9I_vyX",
        "colab_type": "code",
        "outputId": "9774a44a-67cc-4f57-af0e-717edb5575f9",
        "colab": {
          "base_uri": "https://localhost:8080/",
          "height": 51
        }
      },
      "source": [
        "a = np.array([1, 2, 3, 4, 5])\n",
        "tensor_cnv = torch.from_numpy(a)\n",
        "print(tensor_cnv)\n",
        "print(tensor_cnv.type())"
      ],
      "execution_count": 14,
      "outputs": [
        {
          "output_type": "stream",
          "text": [
            "tensor([1, 2, 3, 4, 5])\n",
            "torch.LongTensor\n"
          ],
          "name": "stdout"
        }
      ]
    },
    {
      "cell_type": "code",
      "metadata": {
        "id": "v5NspvoCeVgB",
        "colab_type": "code",
        "outputId": "8b0eb612-10f0-45bd-a383-399d2eaad99d",
        "colab": {
          "base_uri": "https://localhost:8080/",
          "height": 34
        }
      },
      "source": [
        "numpy_cnv = tensor_cnv.numpy()\n",
        "print(numpy_cnv)"
      ],
      "execution_count": 15,
      "outputs": [
        {
          "output_type": "stream",
          "text": [
            "[1 2 3 4 5]\n"
          ],
          "name": "stdout"
        }
      ]
    },
    {
      "cell_type": "markdown",
      "metadata": {
        "id": "p7KFeaD0fNkB",
        "colab_type": "text"
      },
      "source": [
        "**matrix multiplication**"
      ]
    },
    {
      "cell_type": "code",
      "metadata": {
        "id": "utxh6nkIi-BT",
        "colab_type": "code",
        "outputId": "3b862468-46b7-45e7-c3b8-912ad0b7c88a",
        "colab": {
          "base_uri": "https://localhost:8080/",
          "height": 51
        }
      },
      "source": [
        "mat_a = torch.tensor([0, 3, 5, 5, 5, 2]).view(2, 3)\n",
        "mat_a"
      ],
      "execution_count": 16,
      "outputs": [
        {
          "output_type": "execute_result",
          "data": {
            "text/plain": [
              "tensor([[0, 3, 5],\n",
              "        [5, 5, 2]])"
            ]
          },
          "metadata": {
            "tags": []
          },
          "execution_count": 16
        }
      ]
    },
    {
      "cell_type": "code",
      "metadata": {
        "id": "uya7XKiBjfkD",
        "colab_type": "code",
        "outputId": "69f8d3e6-5392-4f6d-dede-11b1c7249b65",
        "colab": {
          "base_uri": "https://localhost:8080/",
          "height": 68
        }
      },
      "source": [
        "mat_b = torch.tensor([3, 4, 3, -2, 4, -2]).view(3, 2)\n",
        "mat_b"
      ],
      "execution_count": 17,
      "outputs": [
        {
          "output_type": "execute_result",
          "data": {
            "text/plain": [
              "tensor([[ 3,  4],\n",
              "        [ 3, -2],\n",
              "        [ 4, -2]])"
            ]
          },
          "metadata": {
            "tags": []
          },
          "execution_count": 17
        }
      ]
    },
    {
      "cell_type": "code",
      "metadata": {
        "id": "A4ToW0oNj6zF",
        "colab_type": "code",
        "outputId": "fc81aa85-41e0-4626-8d29-01f2306f7b09",
        "colab": {
          "base_uri": "https://localhost:8080/",
          "height": 51
        }
      },
      "source": [
        "torch.matmul(mat_a, mat_b)"
      ],
      "execution_count": 18,
      "outputs": [
        {
          "output_type": "execute_result",
          "data": {
            "text/plain": [
              "tensor([[ 29, -16],\n",
              "        [ 38,   6]])"
            ]
          },
          "metadata": {
            "tags": []
          },
          "execution_count": 18
        }
      ]
    },
    {
      "cell_type": "code",
      "metadata": {
        "id": "JA1UVt1WkCOl",
        "colab_type": "code",
        "outputId": "d90be711-512e-4af7-846b-f12b42895ac0",
        "colab": {
          "base_uri": "https://localhost:8080/",
          "height": 51
        }
      },
      "source": [
        "mat_a@mat_b"
      ],
      "execution_count": 19,
      "outputs": [
        {
          "output_type": "execute_result",
          "data": {
            "text/plain": [
              "tensor([[ 29, -16],\n",
              "        [ 38,   6]])"
            ]
          },
          "metadata": {
            "tags": []
          },
          "execution_count": 19
        }
      ]
    },
    {
      "cell_type": "markdown",
      "metadata": {
        "id": "VTAGY838k2Bk",
        "colab_type": "text"
      },
      "source": [
        "**derivatives**"
      ]
    },
    {
      "cell_type": "code",
      "metadata": {
        "id": "myEn1p_WkI1-",
        "colab_type": "code",
        "outputId": "5636acb4-1bd6-48a7-fea6-40352b66a4f3",
        "colab": {
          "base_uri": "https://localhost:8080/",
          "height": 34
        }
      },
      "source": [
        "x = torch.tensor(2.0, requires_grad=True)\n",
        "y = 9*x**4 + 2*x**3 + 3*x**2 + 6*x + 1\n",
        "y.backward()\n",
        "x.grad"
      ],
      "execution_count": 20,
      "outputs": [
        {
          "output_type": "execute_result",
          "data": {
            "text/plain": [
              "tensor(330.)"
            ]
          },
          "metadata": {
            "tags": []
          },
          "execution_count": 20
        }
      ]
    },
    {
      "cell_type": "code",
      "metadata": {
        "id": "glfEGbINkxoN",
        "colab_type": "code",
        "outputId": "e0f0e00d-9f61-4705-843b-c80a68048b18",
        "colab": {
          "base_uri": "https://localhost:8080/",
          "height": 51
        }
      },
      "source": [
        "x = torch.tensor(1.0, requires_grad=True)\n",
        "z = torch.tensor(2.0, requires_grad=True)\n",
        "y = x**2 + z**3\n",
        "y.backward()\n",
        "print(x.grad)\n",
        "print(z.grad)"
      ],
      "execution_count": 21,
      "outputs": [
        {
          "output_type": "stream",
          "text": [
            "tensor(2.)\n",
            "tensor(12.)\n"
          ],
          "name": "stdout"
        }
      ]
    },
    {
      "cell_type": "markdown",
      "metadata": {
        "id": "Vl7s7qUso_RI",
        "colab_type": "text"
      },
      "source": [
        "**linear model**"
      ]
    },
    {
      "cell_type": "code",
      "metadata": {
        "id": "IWEkcF1TnB79",
        "colab_type": "code",
        "colab": {}
      },
      "source": [
        "w = torch.tensor(3.0, requires_grad=True)\n",
        "b = torch.tensor(1.0, requires_grad=True)"
      ],
      "execution_count": 0,
      "outputs": []
    },
    {
      "cell_type": "code",
      "metadata": {
        "id": "UEYqsyi9pObg",
        "colab_type": "code",
        "colab": {}
      },
      "source": [
        "def forward(x):\n",
        "  return w*x + b"
      ],
      "execution_count": 0,
      "outputs": []
    },
    {
      "cell_type": "code",
      "metadata": {
        "id": "uk67-_Ywplpq",
        "colab_type": "code",
        "colab": {
          "base_uri": "https://localhost:8080/",
          "height": 34
        },
        "outputId": "5ec09d81-c1c4-4236-dc25-b6c82aee1a0f"
      },
      "source": [
        "x = torch.tensor([4, 7])\n",
        "forward(x)"
      ],
      "execution_count": 24,
      "outputs": [
        {
          "output_type": "execute_result",
          "data": {
            "text/plain": [
              "tensor([13, 22], grad_fn=<AddBackward0>)"
            ]
          },
          "metadata": {
            "tags": []
          },
          "execution_count": 24
        }
      ]
    },
    {
      "cell_type": "markdown",
      "metadata": {
        "id": "qJ-GcuWIqx1m",
        "colab_type": "text"
      },
      "source": [
        "**with linear class**"
      ]
    },
    {
      "cell_type": "code",
      "metadata": {
        "id": "uKX-w_Y9prfG",
        "colab_type": "code",
        "colab": {}
      },
      "source": [
        "torch.manual_seed(1)\n",
        "model = Linear(in_features=1, out_features=1)"
      ],
      "execution_count": 0,
      "outputs": []
    },
    {
      "cell_type": "code",
      "metadata": {
        "id": "rSAMTO16rddk",
        "colab_type": "code",
        "colab": {
          "base_uri": "https://localhost:8080/",
          "height": 85
        },
        "outputId": "9143abfc-5463-4723-9767-314ebf611990"
      },
      "source": [
        "print(model.bias)\n",
        "print(model.weight)"
      ],
      "execution_count": 26,
      "outputs": [
        {
          "output_type": "stream",
          "text": [
            "Parameter containing:\n",
            "tensor([-0.4414], requires_grad=True)\n",
            "Parameter containing:\n",
            "tensor([[0.5153]], requires_grad=True)\n"
          ],
          "name": "stdout"
        }
      ]
    },
    {
      "cell_type": "code",
      "metadata": {
        "id": "Gje5DBP8rocy",
        "colab_type": "code",
        "colab": {
          "base_uri": "https://localhost:8080/",
          "height": 51
        },
        "outputId": "57e54383-369b-4df5-abd1-0c0b23ae8c99"
      },
      "source": [
        "x = torch.tensor([[2.0], [3.0]])\n",
        "print(model(x))"
      ],
      "execution_count": 27,
      "outputs": [
        {
          "output_type": "stream",
          "text": [
            "tensor([[0.5891],\n",
            "        [1.1044]], grad_fn=<AddmmBackward>)\n"
          ],
          "name": "stdout"
        }
      ]
    },
    {
      "cell_type": "markdown",
      "metadata": {
        "id": "U_WAB6TcqFiB",
        "colab_type": "text"
      },
      "source": [
        "**creating the dataset**"
      ]
    },
    {
      "cell_type": "code",
      "metadata": {
        "id": "d0XRohb0qK81",
        "colab_type": "code",
        "colab": {
          "base_uri": "https://localhost:8080/",
          "height": 286
        },
        "outputId": "93a72713-d758-42a4-fa73-0d42b94cfc15"
      },
      "source": [
        "X = torch.randn(100, 1)*10\n",
        "y = X + 3*torch.randn(100, 1)\n",
        "plt.plot(X.numpy(), y.numpy(), 'o')"
      ],
      "execution_count": 28,
      "outputs": [
        {
          "output_type": "execute_result",
          "data": {
            "text/plain": [
              "[<matplotlib.lines.Line2D at 0x7f52d29a10f0>]"
            ]
          },
          "metadata": {
            "tags": []
          },
          "execution_count": 28
        },
        {
          "output_type": "display_data",
          "data": {
            "image/png": "[encoded data removed]",
            "text/plain": [
              "<Figure size 432x288 with 1 Axes>"
            ]
          },
          "metadata": {
            "tags": []
          }
        }
      ]
    },
    {
      "cell_type": "markdown",
      "metadata": {
        "id": "Ss_n0gatsq1K",
        "colab_type": "text"
      },
      "source": [
        "**custom models**"
      ]
    },
    {
      "cell_type": "code",
      "metadata": {
        "id": "uw45xcRAsOUj",
        "colab_type": "code",
        "colab": {}
      },
      "source": [
        "class LR(nn.Module):\n",
        "  def __init__(self, input_size, output_size):\n",
        "    super().__init__()\n",
        "    self.linear = nn.Linear(input_size, output_size)\n",
        "    \n",
        "  def forward(self, x):\n",
        "    return self.linear(x)"
      ],
      "execution_count": 0,
      "outputs": []
    },
    {
      "cell_type": "code",
      "metadata": {
        "id": "TW7pdTiyvHK_",
        "colab_type": "code",
        "colab": {
          "base_uri": "https://localhost:8080/",
          "height": 68
        },
        "outputId": "79cf640f-71cf-474e-bb98-93310c11d871"
      },
      "source": [
        "torch.manual_seed(1)\n",
        "model = LR(1, 1)\n",
        "print(model)"
      ],
      "execution_count": 30,
      "outputs": [
        {
          "output_type": "stream",
          "text": [
            "LR(\n",
            "  (linear): Linear(in_features=1, out_features=1, bias=True)\n",
            ")\n"
          ],
          "name": "stdout"
        }
      ]
    },
    {
      "cell_type": "code",
      "metadata": {
        "id": "_LoHYiiwlsXY",
        "colab_type": "code",
        "colab": {}
      },
      "source": [
        "[w, b] = model.parameters()\n",
        "def get_params():\n",
        "  return(w[0][0].item(), b[0].item())"
      ],
      "execution_count": 0,
      "outputs": []
    },
    {
      "cell_type": "code",
      "metadata": {
        "id": "lSZLUerQnoug",
        "colab_type": "code",
        "colab": {}
      },
      "source": [
        "def plot_fit(title):\n",
        "  plt.title = title\n",
        "  w1, b1 = get_params()\n",
        "  x1 = np.array([-30, 30])\n",
        "  y1 = w1*x1 + b1\n",
        "  plt.plot(x1, y1, 'r')\n",
        "  plt.scatter(X, y)\n",
        "  plt.show()"
      ],
      "execution_count": 0,
      "outputs": []
    },
    {
      "cell_type": "code",
      "metadata": {
        "id": "KwKLW85eo_JV",
        "colab_type": "code",
        "colab": {
          "base_uri": "https://localhost:8080/",
          "height": 269
        },
        "outputId": "94c6b640-2afd-433b-f1a0-0d37992c3c92"
      },
      "source": [
        "plot_fit(\"initial model\")"
      ],
      "execution_count": 33,
      "outputs": [
        {
          "output_type": "display_data",
          "data": {
            "image/png": "[encoded data removed]",
            "text/plain": [
              "<Figure size 432x288 with 1 Axes>"
            ]
          },
          "metadata": {
            "tags": []
          }
        }
      ]
    },
    {
      "cell_type": "code",
      "metadata": {
        "id": "6XlyYS9EvmyJ",
        "colab_type": "code",
        "colab": {}
      },
      "source": [
        "criterion = nn.MSELoss()\n",
        "optimizer = torch.optim.SGD(model.parameters(), lr = 0.001)"
      ],
      "execution_count": 0,
      "outputs": []
    },
    {
      "cell_type": "code",
      "metadata": {
        "id": "MkjLeahxthyV",
        "colab_type": "code",
        "colab": {
          "base_uri": "https://localhost:8080/",
          "height": 1000
        },
        "outputId": "05d1d848-bafc-4eed-b7c7-4062159b88e6"
      },
      "source": [
        "epochs = 100\n",
        "losses = []\n",
        "for i in range(epochs):\n",
        "  y_pred = model.forward(X)\n",
        "  loss = criterion(y_pred, y)\n",
        "  print(\"epoch: \", i, \"loss: \", loss.item())\n",
        "  \n",
        "  losses.append(loss)\n",
        "  optimizer.zero_grad()  # gradients accumulate, hence need to reset\n",
        "  loss.backward()  # comupute the gradient\n",
        "  optimizer.step()  # update the parameters of the model"
      ],
      "execution_count": 35,
      "outputs": [
        {
          "output_type": "stream",
          "text": [
            "epoch:  0 loss:  36.44832992553711\n",
            "epoch:  1 loss:  25.84706687927246\n",
            "epoch:  2 loss:  19.274919509887695\n",
            "epoch:  3 loss:  15.200485229492188\n",
            "epoch:  4 loss:  12.674422264099121\n",
            "epoch:  5 loss:  11.10822868347168\n",
            "epoch:  6 loss:  10.137072563171387\n",
            "epoch:  7 loss:  9.534791946411133\n",
            "epoch:  8 loss:  9.161184310913086\n",
            "epoch:  9 loss:  8.92933464050293\n",
            "epoch:  10 loss:  8.785365104675293\n",
            "epoch:  11 loss:  8.69587516784668\n",
            "epoch:  12 loss:  8.640158653259277\n",
            "epoch:  13 loss:  8.605380058288574\n",
            "epoch:  14 loss:  8.58358097076416\n",
            "epoch:  15 loss:  8.569830894470215\n",
            "epoch:  16 loss:  8.56106948852539\n",
            "epoch:  17 loss:  8.555403709411621\n",
            "epoch:  18 loss:  8.551656723022461\n",
            "epoch:  19 loss:  8.549099922180176\n",
            "epoch:  20 loss:  8.547282218933105\n",
            "epoch:  21 loss:  8.545924186706543\n",
            "epoch:  22 loss:  8.54485034942627\n",
            "epoch:  23 loss:  8.543954849243164\n",
            "epoch:  24 loss:  8.543170928955078\n",
            "epoch:  25 loss:  8.54245662689209\n",
            "epoch:  26 loss:  8.541786193847656\n",
            "epoch:  27 loss:  8.541145324707031\n",
            "epoch:  28 loss:  8.540521621704102\n",
            "epoch:  29 loss:  8.539910316467285\n",
            "epoch:  30 loss:  8.539307594299316\n",
            "epoch:  31 loss:  8.538711547851562\n",
            "epoch:  32 loss:  8.538119316101074\n",
            "epoch:  33 loss:  8.537531852722168\n",
            "epoch:  34 loss:  8.536946296691895\n",
            "epoch:  35 loss:  8.536364555358887\n",
            "epoch:  36 loss:  8.535784721374512\n",
            "epoch:  37 loss:  8.535207748413086\n",
            "epoch:  38 loss:  8.53463363647461\n",
            "epoch:  39 loss:  8.534061431884766\n",
            "epoch:  40 loss:  8.533491134643555\n",
            "epoch:  41 loss:  8.532923698425293\n",
            "epoch:  42 loss:  8.53235912322998\n",
            "epoch:  43 loss:  8.5317964553833\n",
            "epoch:  44 loss:  8.531234741210938\n",
            "epoch:  45 loss:  8.530675888061523\n",
            "epoch:  46 loss:  8.530119895935059\n",
            "epoch:  47 loss:  8.52956485748291\n",
            "epoch:  48 loss:  8.529012680053711\n",
            "epoch:  49 loss:  8.528463363647461\n",
            "epoch:  50 loss:  8.527915000915527\n",
            "epoch:  51 loss:  8.527369499206543\n",
            "epoch:  52 loss:  8.526825904846191\n",
            "epoch:  53 loss:  8.526284217834473\n",
            "epoch:  54 loss:  8.525745391845703\n",
            "epoch:  55 loss:  8.525208473205566\n",
            "epoch:  56 loss:  8.524673461914062\n",
            "epoch:  57 loss:  8.524140357971191\n",
            "epoch:  58 loss:  8.523609161376953\n",
            "epoch:  59 loss:  8.523079872131348\n",
            "epoch:  60 loss:  8.522554397583008\n",
            "epoch:  61 loss:  8.522028923034668\n",
            "epoch:  62 loss:  8.521506309509277\n",
            "epoch:  63 loss:  8.52098560333252\n",
            "epoch:  64 loss:  8.520467758178711\n",
            "epoch:  65 loss:  8.519950866699219\n",
            "epoch:  66 loss:  8.51943588256836\n",
            "epoch:  67 loss:  8.51892375946045\n",
            "epoch:  68 loss:  8.518413543701172\n",
            "epoch:  69 loss:  8.517905235290527\n",
            "epoch:  70 loss:  8.517398834228516\n",
            "epoch:  71 loss:  8.516894340515137\n",
            "epoch:  72 loss:  8.51639175415039\n",
            "epoch:  73 loss:  8.515891075134277\n",
            "epoch:  74 loss:  8.515392303466797\n",
            "epoch:  75 loss:  8.514896392822266\n",
            "epoch:  76 loss:  8.51440143585205\n",
            "epoch:  77 loss:  8.513909339904785\n",
            "epoch:  78 loss:  8.513418197631836\n",
            "epoch:  79 loss:  8.51292896270752\n",
            "epoch:  80 loss:  8.512441635131836\n",
            "epoch:  81 loss:  8.511957168579102\n",
            "epoch:  82 loss:  8.511474609375\n",
            "epoch:  83 loss:  8.510993003845215\n",
            "epoch:  84 loss:  8.510513305664062\n",
            "epoch:  85 loss:  8.510035514831543\n",
            "epoch:  86 loss:  8.509560585021973\n",
            "epoch:  87 loss:  8.509086608886719\n",
            "epoch:  88 loss:  8.508614540100098\n",
            "epoch:  89 loss:  8.508145332336426\n",
            "epoch:  90 loss:  8.50767707824707\n",
            "epoch:  91 loss:  8.507209777832031\n",
            "epoch:  92 loss:  8.506745338439941\n",
            "epoch:  93 loss:  8.5062837600708\n",
            "epoch:  94 loss:  8.50582218170166\n",
            "epoch:  95 loss:  8.505363464355469\n",
            "epoch:  96 loss:  8.504905700683594\n",
            "epoch:  97 loss:  8.504449844360352\n",
            "epoch:  98 loss:  8.503996849060059\n",
            "epoch:  99 loss:  8.503544807434082\n"
          ],
          "name": "stdout"
        }
      ]
    },
    {
      "cell_type": "code",
      "metadata": {
        "id": "sAo5VXeBvx2T",
        "colab_type": "code",
        "colab": {
          "base_uri": "https://localhost:8080/",
          "height": 300
        },
        "outputId": "c1c4701a-1df0-4f77-a2bb-1da2df8895fd"
      },
      "source": [
        "plt.plot(range(epochs), losses)\n",
        "plt.ylabel(\"loss\")\n",
        "plt.xlabel(\"epoch\")"
      ],
      "execution_count": 71,
      "outputs": [
        {
          "output_type": "execute_result",
          "data": {
            "text/plain": [
              "Text(0.5, 0, 'epoch')"
            ]
          },
          "metadata": {
            "tags": []
          },
          "execution_count": 71
        },
        {
          "output_type": "display_data",
          "data": {
            "image/png": "[encoded data removed]",
            "text/plain": [
              "<Figure size 432x288 with 1 Axes>"
            ]
          },
          "metadata": {
            "tags": []
          }
        }
      ]
    },
    {
      "cell_type": "code",
      "metadata": {
        "id": "KJ-nJNd88609",
        "colab_type": "code",
        "colab": {
          "base_uri": "https://localhost:8080/",
          "height": 269
        },
        "outputId": "daee4eed-c947-4cd6-df90-de6f5d09e4ee"
      },
      "source": [
        "plot_fit(\"trained model\")"
      ],
      "execution_count": 72,
      "outputs": [
        {
          "output_type": "display_data",
          "data": {
            "image/png": "[encoded data removed]",
            "text/plain": [
              "<Figure size 432x288 with 1 Axes>"
            ]
          },
          "metadata": {
            "tags": []
          }
        }
      ]
    },
    {
      "cell_type": "markdown",
      "metadata": {
        "id": "-t7WDibDufxv",
        "colab_type": "text"
      },
      "source": [
        "## Perceptron\n",
        "**create dataset**"
      ]
    },
    {
      "cell_type": "code",
      "metadata": {
        "id": "HmnEJv729MR6",
        "colab_type": "code",
        "colab": {}
      },
      "source": [
        "n_pts = 100\n",
        "centers = [[-0.5, 0.5], [0.5, -0.5]]\n",
        "X, y = datasets.make_blobs(n_samples=n_pts, random_state=123, centers=centers, cluster_std=0.4)\n",
        "x_data = torch.Tensor(X)\n",
        "y_data = torch.Tensor(y)"
      ],
      "execution_count": 0,
      "outputs": []
    },
    {
      "cell_type": "code",
      "metadata": {
        "id": "O9H5pU50vxJ7",
        "colab_type": "code",
        "colab": {
          "base_uri": "https://localhost:8080/",
          "height": 286
        },
        "outputId": "96834e63-dd56-4523-ce2b-561953ecce81"
      },
      "source": [
        "plt.scatter(X[y==0, 0], X[y==0, 1])\n",
        "plt.scatter(X[y==1, 0], X[y==1, 1])"
      ],
      "execution_count": 6,
      "outputs": [
        {
          "output_type": "execute_result",
          "data": {
            "text/plain": [
              "<matplotlib.collections.PathCollection at 0x7fbd237855c0>"
            ]
          },
          "metadata": {
            "tags": []
          },
          "execution_count": 6
        },
        {
          "output_type": "display_data",
          "data": {
            "image/png": "[encoded data removed]",
            "text/plain": [
              "<Figure size 432x288 with 1 Axes>"
            ]
          },
          "metadata": {
            "tags": []
          }
        }
      ]
    },
    {
      "cell_type": "code",
      "metadata": {
        "id": "lKw6Gnntwned",
        "colab_type": "code",
        "colab": {}
      },
      "source": [
        ""
      ],
      "execution_count": 0,
      "outputs": []
    }
  ]
}